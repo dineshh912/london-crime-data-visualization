{
 "cells": [
  {
   "cell_type": "code",
   "execution_count": 7,
   "metadata": {},
   "outputs": [],
   "source": [
    "import pandas as pd\n",
    "import matplotlib.pyplot as plt\n",
    "import seaborn as sns"
   ]
  },
  {
   "cell_type": "code",
   "execution_count": 36,
   "metadata": {},
   "outputs": [],
   "source": [
    "df = pd.read_csv('data/london_crime_by_lsoa.csv')"
   ]
  },
  {
   "cell_type": "code",
   "execution_count": 37,
   "metadata": {},
   "outputs": [],
   "source": [
    "#Removing all entries where crime value is null\n",
    "df=df[df.value!=0]"
   ]
  },
  {
   "cell_type": "code",
   "execution_count": 38,
   "metadata": {},
   "outputs": [
    {
     "data": {
      "text/html": [
       "<div>\n",
       "<style scoped>\n",
       "    .dataframe tbody tr th:only-of-type {\n",
       "        vertical-align: middle;\n",
       "    }\n",
       "\n",
       "    .dataframe tbody tr th {\n",
       "        vertical-align: top;\n",
       "    }\n",
       "\n",
       "    .dataframe thead th {\n",
       "        text-align: right;\n",
       "    }\n",
       "</style>\n",
       "<table border=\"1\" class=\"dataframe\">\n",
       "  <thead>\n",
       "    <tr style=\"text-align: right;\">\n",
       "      <th></th>\n",
       "      <th>lsoa_code</th>\n",
       "      <th>borough</th>\n",
       "      <th>major_category</th>\n",
       "      <th>minor_category</th>\n",
       "      <th>value</th>\n",
       "      <th>year</th>\n",
       "      <th>month</th>\n",
       "    </tr>\n",
       "  </thead>\n",
       "  <tbody>\n",
       "    <tr>\n",
       "      <th>9</th>\n",
       "      <td>E01004177</td>\n",
       "      <td>Sutton</td>\n",
       "      <td>Theft and Handling</td>\n",
       "      <td>Theft/Taking of Pedal Cycle</td>\n",
       "      <td>1</td>\n",
       "      <td>2016</td>\n",
       "      <td>8</td>\n",
       "    </tr>\n",
       "    <tr>\n",
       "      <th>16</th>\n",
       "      <td>E01000086</td>\n",
       "      <td>Barking and Dagenham</td>\n",
       "      <td>Theft and Handling</td>\n",
       "      <td>Other Theft Person</td>\n",
       "      <td>1</td>\n",
       "      <td>2009</td>\n",
       "      <td>5</td>\n",
       "    </tr>\n",
       "    <tr>\n",
       "      <th>24</th>\n",
       "      <td>E01001301</td>\n",
       "      <td>Ealing</td>\n",
       "      <td>Theft and Handling</td>\n",
       "      <td>Other Theft Person</td>\n",
       "      <td>2</td>\n",
       "      <td>2012</td>\n",
       "      <td>1</td>\n",
       "    </tr>\n",
       "    <tr>\n",
       "      <th>25</th>\n",
       "      <td>E01001794</td>\n",
       "      <td>Hackney</td>\n",
       "      <td>Violence Against the Person</td>\n",
       "      <td>Harassment</td>\n",
       "      <td>1</td>\n",
       "      <td>2013</td>\n",
       "      <td>2</td>\n",
       "    </tr>\n",
       "    <tr>\n",
       "      <th>32</th>\n",
       "      <td>E01000733</td>\n",
       "      <td>Bromley</td>\n",
       "      <td>Criminal Damage</td>\n",
       "      <td>Criminal Damage To Motor Vehicle</td>\n",
       "      <td>1</td>\n",
       "      <td>2016</td>\n",
       "      <td>4</td>\n",
       "    </tr>\n",
       "  </tbody>\n",
       "</table>\n",
       "</div>"
      ],
      "text/plain": [
       "    lsoa_code               borough               major_category  \\\n",
       "9   E01004177                Sutton           Theft and Handling   \n",
       "16  E01000086  Barking and Dagenham           Theft and Handling   \n",
       "24  E01001301                Ealing           Theft and Handling   \n",
       "25  E01001794               Hackney  Violence Against the Person   \n",
       "32  E01000733               Bromley              Criminal Damage   \n",
       "\n",
       "                      minor_category  value  year  month  \n",
       "9        Theft/Taking of Pedal Cycle      1  2016      8  \n",
       "16                Other Theft Person      1  2009      5  \n",
       "24                Other Theft Person      2  2012      1  \n",
       "25                        Harassment      1  2013      2  \n",
       "32  Criminal Damage To Motor Vehicle      1  2016      4  "
      ]
     },
     "execution_count": 38,
     "metadata": {},
     "output_type": "execute_result"
    }
   ],
   "source": [
    "df.head()"
   ]
  },
  {
   "cell_type": "code",
   "execution_count": 39,
   "metadata": {},
   "outputs": [
    {
     "data": {
      "text/plain": [
       "<bound method DataFrame.info of           lsoa_code               borough               major_category  \\\n",
       "9         E01004177                Sutton           Theft and Handling   \n",
       "16        E01000086  Barking and Dagenham           Theft and Handling   \n",
       "24        E01001301                Ealing           Theft and Handling   \n",
       "25        E01001794               Hackney  Violence Against the Person   \n",
       "32        E01000733               Bromley              Criminal Damage   \n",
       "...             ...                   ...                          ...   \n",
       "13490581  E01000789               Bromley  Violence Against the Person   \n",
       "13490584  E01003301              Lewisham  Violence Against the Person   \n",
       "13490590  E01001679             Greenwich           Theft and Handling   \n",
       "13490592  E01033327              Lewisham  Violence Against the Person   \n",
       "13490600  E01002504            Hillingdon                      Robbery   \n",
       "\n",
       "                            minor_category  value  year  month  \n",
       "9              Theft/Taking of Pedal Cycle      1  2016      8  \n",
       "16                      Other Theft Person      1  2009      5  \n",
       "24                      Other Theft Person      2  2012      1  \n",
       "25                              Harassment      1  2013      2  \n",
       "32        Criminal Damage To Motor Vehicle      1  2016      4  \n",
       "...                                    ...    ...   ...    ...  \n",
       "13490581                        Harassment      3  2009     12  \n",
       "13490584               Assault with Injury      1  2015     10  \n",
       "13490590     Theft/Taking Of Motor Vehicle      1  2012      4  \n",
       "13490592                    Common Assault      2  2013      7  \n",
       "13490600                 Personal Property      1  2015      6  \n",
       "\n",
       "[3419099 rows x 7 columns]>"
      ]
     },
     "execution_count": 39,
     "metadata": {},
     "output_type": "execute_result"
    }
   ],
   "source": [
    "df.info"
   ]
  },
  {
   "cell_type": "code",
   "execution_count": 40,
   "metadata": {},
   "outputs": [
    {
     "data": {
      "text/plain": [
       "(3419099, 7)"
      ]
     },
     "execution_count": 40,
     "metadata": {},
     "output_type": "execute_result"
    }
   ],
   "source": [
    "df.shape"
   ]
  },
  {
   "cell_type": "code",
   "execution_count": 41,
   "metadata": {},
   "outputs": [
    {
     "data": {
      "text/plain": [
       "Index(['lsoa_code', 'borough', 'major_category', 'minor_category', 'value',\n",
       "       'year', 'month'],\n",
       "      dtype='object')"
      ]
     },
     "execution_count": 41,
     "metadata": {},
     "output_type": "execute_result"
    }
   ],
   "source": [
    "df.columns"
   ]
  },
  {
   "cell_type": "code",
   "execution_count": 42,
   "metadata": {},
   "outputs": [
    {
     "data": {
      "text/plain": [
       "lsoa_code         0\n",
       "borough           0\n",
       "major_category    0\n",
       "minor_category    0\n",
       "value             0\n",
       "year              0\n",
       "month             0\n",
       "dtype: int64"
      ]
     },
     "execution_count": 42,
     "metadata": {},
     "output_type": "execute_result"
    }
   ],
   "source": [
    "#Checking for null values\n",
    "df.isnull().sum()"
   ]
  },
  {
   "cell_type": "code",
   "execution_count": 43,
   "metadata": {},
   "outputs": [
    {
     "data": {
      "text/plain": [
       "array(['Theft and Handling', 'Violence Against the Person',\n",
       "       'Criminal Damage', 'Robbery', 'Burglary',\n",
       "       'Other Notifiable Offences', 'Drugs', 'Sexual Offences',\n",
       "       'Fraud or Forgery'], dtype=object)"
      ]
     },
     "execution_count": 43,
     "metadata": {},
     "output_type": "execute_result"
    }
   ],
   "source": [
    "#Checking unique values for major_categories\n",
    "df['major_category'].unique()"
   ]
  },
  {
   "cell_type": "code",
   "execution_count": 44,
   "metadata": {},
   "outputs": [
    {
     "data": {
      "text/plain": [
       "Theft and Handling             1136994\n",
       "Violence Against the Person     894859\n",
       "Criminal Damage                 466268\n",
       "Burglary                        441209\n",
       "Drugs                           231894\n",
       "Robbery                         163549\n",
       "Other Notifiable Offences        80569\n",
       "Fraud or Forgery                  2682\n",
       "Sexual Offences                   1075\n",
       "Name: major_category, dtype: int64"
      ]
     },
     "execution_count": 44,
     "metadata": {},
     "output_type": "execute_result"
    }
   ],
   "source": [
    "df['major_category'].value_counts()"
   ]
  },
  {
   "cell_type": "code",
   "execution_count": 45,
   "metadata": {},
   "outputs": [
    {
     "data": {
      "text/plain": [
       "array(['Theft/Taking of Pedal Cycle', 'Other Theft Person', 'Harassment',\n",
       "       'Criminal Damage To Motor Vehicle', 'Other Theft',\n",
       "       'Theft/Taking Of Motor Vehicle', 'Wounding/GBH',\n",
       "       'Theft From Shops', 'Assault with Injury', 'Personal Property',\n",
       "       'Burglary in a Dwelling', 'Burglary in Other Buildings',\n",
       "       'Common Assault', 'Business Property', 'Offensive Weapon',\n",
       "       'Going Equipped', 'Motor Vehicle Interference & Tampering',\n",
       "       'Criminal Damage To Dwelling', 'Theft From Motor Vehicle',\n",
       "       'Possession Of Drugs', 'Criminal Damage To Other Building',\n",
       "       'Other Notifiable', 'Other Criminal Damage', 'Other violence',\n",
       "       'Handling Stolen Goods', 'Drug Trafficking', 'Murder',\n",
       "       'Other Sexual', 'Counted per Victim', 'Other Drugs', 'Rape',\n",
       "       'Other Fraud & Forgery'], dtype=object)"
      ]
     },
     "execution_count": 45,
     "metadata": {},
     "output_type": "execute_result"
    }
   ],
   "source": [
    "df['minor_category'].unique()"
   ]
  },
  {
   "cell_type": "code",
   "execution_count": 46,
   "metadata": {},
   "outputs": [
    {
     "data": {
      "text/plain": [
       "Other Theft                               297281\n",
       "Theft From Motor Vehicle                  291839\n",
       "Burglary in a Dwelling                    278792\n",
       "Assault with Injury                       244990\n",
       "Harassment                                243827\n",
       "Common Assault                            231398\n",
       "Possession Of Drugs                       201464\n",
       "Criminal Damage To Motor Vehicle          179380\n",
       "Theft/Taking Of Motor Vehicle             163069\n",
       "Burglary in Other Buildings               162417\n",
       "Personal Property                         144078\n",
       "Other Theft Person                        121674\n",
       "Criminal Damage To Dwelling               121592\n",
       "Other Criminal Damage                     112449\n",
       "Theft/Taking of Pedal Cycle               104947\n",
       "Theft From Shops                           94947\n",
       "Wounding/GBH                               90482\n",
       "Other Notifiable                           75483\n",
       "Criminal Damage To Other Building          52847\n",
       "Other violence                             50620\n",
       "Motor Vehicle Interference & Tampering     48769\n",
       "Offensive Weapon                           32623\n",
       "Drug Trafficking                           27592\n",
       "Business Property                          19471\n",
       "Handling Stolen Goods                      14468\n",
       "Going Equipped                              5086\n",
       "Other Drugs                                 2838\n",
       "Counted per Victim                          1630\n",
       "Other Fraud & Forgery                       1052\n",
       "Murder                                       919\n",
       "Other Sexual                                 819\n",
       "Rape                                         256\n",
       "Name: minor_category, dtype: int64"
      ]
     },
     "execution_count": 46,
     "metadata": {},
     "output_type": "execute_result"
    }
   ],
   "source": [
    "df['minor_category'].value_counts()"
   ]
  },
  {
   "cell_type": "code",
   "execution_count": 47,
   "metadata": {},
   "outputs": [
    {
     "data": {
      "text/plain": [
       "[Text(0, 0, 'Theft and Handling'),\n",
       " Text(1, 0, 'Violence Against the Person'),\n",
       " Text(2, 0, 'Criminal Damage'),\n",
       " Text(3, 0, 'Burglary'),\n",
       " Text(4, 0, 'Drugs'),\n",
       " Text(5, 0, 'Robbery'),\n",
       " Text(6, 0, 'Other Notifiable Offences'),\n",
       " Text(7, 0, 'Fraud or Forgery'),\n",
       " Text(8, 0, 'Sexual Offences')]"
      ]
     },
     "execution_count": 47,
     "metadata": {},
     "output_type": "execute_result"
    },
    {
     "data": {
      "image/png": "[encoded data removed]",
      "text/plain": [
       "<Figure size 1080x720 with 1 Axes>"
      ]
     },
     "metadata": {
      "needs_background": "light"
     },
     "output_type": "display_data"
    }
   ],
   "source": [
    "plt.figure(figsize=(15, 10))\n",
    "ax = sns.countplot(x=\"major_category\", data = df, order=df['major_category'].value_counts().index)\n",
    "ax.set_xticklabels(ax.get_xticklabels(),rotation=30)"
   ]
  },
  {
   "cell_type": "code",
   "execution_count": 48,
   "metadata": {},
   "outputs": [
    {
     "data": {
      "text/plain": [
       "<AxesSubplot:xlabel='count', ylabel='minor_category'>"
      ]
     },
     "execution_count": 48,
     "metadata": {},
     "output_type": "execute_result"
    },
    {
     "data": {
      "image/png": "[encoded data removed]",
      "text/plain": [
       "<Figure size 1080x720 with 1 Axes>"
      ]
     },
     "metadata": {
      "needs_background": "light"
     },
     "output_type": "display_data"
    }
   ],
   "source": [
    "plt.figure(figsize=(15, 10))\n",
    "sns.countplot(y=\"minor_category\", data = df, order=df['minor_category'].value_counts().index)"
   ]
  },
  {
   "cell_type": "code",
   "execution_count": 49,
   "metadata": {},
   "outputs": [
    {
     "data": {
      "text/plain": [
       "borough\n",
       "Barking and Dagenham      149447\n",
       "Barnet                    212191\n",
       "Bexley                    114136\n",
       "Brent                     227551\n",
       "Bromley                   184349\n",
       "Camden                    275147\n",
       "City of London               780\n",
       "Croydon                   260294\n",
       "Ealing                    251562\n",
       "Enfield                   193880\n",
       "Greenwich                 181568\n",
       "Hackney                   217119\n",
       "Hammersmith and Fulham    185259\n",
       "Haringey                  213272\n",
       "Harrow                    116848\n",
       "Havering                  138947\n",
       "Hillingdon                209680\n",
       "Hounslow                  186772\n",
       "Islington                 230286\n",
       "Kensington and Chelsea    171981\n",
       "Kingston upon Thames       89306\n",
       "Lambeth                   292178\n",
       "Lewisham                  215137\n",
       "Merton                    115654\n",
       "Newham                    262024\n",
       "Redbridge                 183562\n",
       "Richmond upon Thames       96771\n",
       "Southwark                 278809\n",
       "Sutton                    100987\n",
       "Tower Hamlets             228613\n",
       "Waltham Forest            203879\n",
       "Wandsworth                204741\n",
       "Westminster               455028\n",
       "Name: value, dtype: int64"
      ]
     },
     "execution_count": 49,
     "metadata": {},
     "output_type": "execute_result"
    }
   ],
   "source": [
    "df.groupby(['borough'])['value'].sum()"
   ]
  },
  {
   "cell_type": "code",
   "execution_count": 51,
   "metadata": {},
   "outputs": [],
   "source": [
    "import numpy as np"
   ]
  },
  {
   "cell_type": "code",
   "execution_count": 61,
   "metadata": {},
   "outputs": [
    {
     "data": {
      "text/html": [
       "<div>\n",
       "<style scoped>\n",
       "    .dataframe tbody tr th:only-of-type {\n",
       "        vertical-align: middle;\n",
       "    }\n",
       "\n",
       "    .dataframe tbody tr th {\n",
       "        vertical-align: top;\n",
       "    }\n",
       "\n",
       "    .dataframe thead tr th {\n",
       "        text-align: left;\n",
       "    }\n",
       "\n",
       "    .dataframe thead tr:last-of-type th {\n",
       "        text-align: right;\n",
       "    }\n",
       "</style>\n",
       "<table border=\"1\" class=\"dataframe\">\n",
       "  <thead>\n",
       "    <tr>\n",
       "      <th></th>\n",
       "      <th colspan=\"9\" halign=\"left\">value</th>\n",
       "    </tr>\n",
       "    <tr>\n",
       "      <th>major_category</th>\n",
       "      <th>Burglary</th>\n",
       "      <th>Criminal Damage</th>\n",
       "      <th>Drugs</th>\n",
       "      <th>Fraud or Forgery</th>\n",
       "      <th>Other Notifiable Offences</th>\n",
       "      <th>Robbery</th>\n",
       "      <th>Sexual Offences</th>\n",
       "      <th>Theft and Handling</th>\n",
       "      <th>Violence Against the Person</th>\n",
       "    </tr>\n",
       "    <tr>\n",
       "      <th>borough</th>\n",
       "      <th></th>\n",
       "      <th></th>\n",
       "      <th></th>\n",
       "      <th></th>\n",
       "      <th></th>\n",
       "      <th></th>\n",
       "      <th></th>\n",
       "      <th></th>\n",
       "      <th></th>\n",
       "    </tr>\n",
       "  </thead>\n",
       "  <tbody>\n",
       "    <tr>\n",
       "      <th>Barking and Dagenham</th>\n",
       "      <td>18103</td>\n",
       "      <td>18888</td>\n",
       "      <td>9188</td>\n",
       "      <td>205</td>\n",
       "      <td>2819</td>\n",
       "      <td>6105</td>\n",
       "      <td>49</td>\n",
       "      <td>50999</td>\n",
       "      <td>43091</td>\n",
       "    </tr>\n",
       "    <tr>\n",
       "      <th>Barnet</th>\n",
       "      <td>36981</td>\n",
       "      <td>21024</td>\n",
       "      <td>9796</td>\n",
       "      <td>175</td>\n",
       "      <td>2953</td>\n",
       "      <td>7374</td>\n",
       "      <td>38</td>\n",
       "      <td>87285</td>\n",
       "      <td>46565</td>\n",
       "    </tr>\n",
       "    <tr>\n",
       "      <th>Bexley</th>\n",
       "      <td>14973</td>\n",
       "      <td>17244</td>\n",
       "      <td>7346</td>\n",
       "      <td>106</td>\n",
       "      <td>1999</td>\n",
       "      <td>2338</td>\n",
       "      <td>22</td>\n",
       "      <td>40071</td>\n",
       "      <td>30037</td>\n",
       "    </tr>\n",
       "    <tr>\n",
       "      <th>Brent</th>\n",
       "      <td>28923</td>\n",
       "      <td>20569</td>\n",
       "      <td>25978</td>\n",
       "      <td>157</td>\n",
       "      <td>3711</td>\n",
       "      <td>12473</td>\n",
       "      <td>39</td>\n",
       "      <td>72523</td>\n",
       "      <td>63178</td>\n",
       "    </tr>\n",
       "    <tr>\n",
       "      <th>Bromley</th>\n",
       "      <td>27135</td>\n",
       "      <td>24039</td>\n",
       "      <td>8942</td>\n",
       "      <td>196</td>\n",
       "      <td>2637</td>\n",
       "      <td>4868</td>\n",
       "      <td>31</td>\n",
       "      <td>69742</td>\n",
       "      <td>46759</td>\n",
       "    </tr>\n",
       "  </tbody>\n",
       "</table>\n",
       "</div>"
      ],
      "text/plain": [
       "                        value                                          \\\n",
       "major_category       Burglary Criminal Damage  Drugs Fraud or Forgery   \n",
       "borough                                                                 \n",
       "Barking and Dagenham    18103           18888   9188              205   \n",
       "Barnet                  36981           21024   9796              175   \n",
       "Bexley                  14973           17244   7346              106   \n",
       "Brent                   28923           20569  25978              157   \n",
       "Bromley                 27135           24039   8942              196   \n",
       "\n",
       "                                                                        \\\n",
       "major_category       Other Notifiable Offences Robbery Sexual Offences   \n",
       "borough                                                                  \n",
       "Barking and Dagenham                      2819    6105              49   \n",
       "Barnet                                    2953    7374              38   \n",
       "Bexley                                    1999    2338              22   \n",
       "Brent                                     3711   12473              39   \n",
       "Bromley                                   2637    4868              31   \n",
       "\n",
       "                                                                     \n",
       "major_category       Theft and Handling Violence Against the Person  \n",
       "borough                                                              \n",
       "Barking and Dagenham              50999                       43091  \n",
       "Barnet                            87285                       46565  \n",
       "Bexley                            40071                       30037  \n",
       "Brent                             72523                       63178  \n",
       "Bromley                           69742                       46759  "
      ]
     },
     "execution_count": 61,
     "metadata": {},
     "output_type": "execute_result"
    }
   ],
   "source": [
    "major_crime = pd.pivot_table(df,values=['value'],\n",
    "                             index=['borough'],\n",
    "                             columns=['major_category'],\n",
    "                             aggfunc=np.sum,fill_value=0)\n",
    "major_crime.head()"
   ]
  },
  {
   "cell_type": "code",
   "execution_count": 63,
   "metadata": {},
   "outputs": [],
   "source": [
    "major_crime.reset_index(inplace=True)"
   ]
  },
  {
   "cell_type": "code",
   "execution_count": 66,
   "metadata": {},
   "outputs": [],
   "source": [
    "major_crime['Total']=major_crime.sum(axis=1)"
   ]
  },
  {
   "cell_type": "code",
   "execution_count": 68,
   "metadata": {},
   "outputs": [
    {
     "data": {
      "text/html": [
       "<div>\n",
       "<style scoped>\n",
       "    .dataframe tbody tr th:only-of-type {\n",
       "        vertical-align: middle;\n",
       "    }\n",
       "\n",
       "    .dataframe tbody tr th {\n",
       "        vertical-align: top;\n",
       "    }\n",
       "\n",
       "    .dataframe thead tr th {\n",
       "        text-align: left;\n",
       "    }\n",
       "</style>\n",
       "<table border=\"1\" class=\"dataframe\">\n",
       "  <thead>\n",
       "    <tr>\n",
       "      <th></th>\n",
       "      <th>borough</th>\n",
       "      <th colspan=\"9\" halign=\"left\">value</th>\n",
       "      <th>Total</th>\n",
       "    </tr>\n",
       "    <tr>\n",
       "      <th>major_category</th>\n",
       "      <th></th>\n",
       "      <th>Burglary</th>\n",
       "      <th>Criminal Damage</th>\n",
       "      <th>Drugs</th>\n",
       "      <th>Fraud or Forgery</th>\n",
       "      <th>Other Notifiable Offences</th>\n",
       "      <th>Robbery</th>\n",
       "      <th>Sexual Offences</th>\n",
       "      <th>Theft and Handling</th>\n",
       "      <th>Violence Against the Person</th>\n",
       "      <th></th>\n",
       "    </tr>\n",
       "  </thead>\n",
       "  <tbody>\n",
       "    <tr>\n",
       "      <th>0</th>\n",
       "      <td>Barking and Dagenham</td>\n",
       "      <td>18103</td>\n",
       "      <td>18888</td>\n",
       "      <td>9188</td>\n",
       "      <td>205</td>\n",
       "      <td>2819</td>\n",
       "      <td>6105</td>\n",
       "      <td>49</td>\n",
       "      <td>50999</td>\n",
       "      <td>43091</td>\n",
       "      <td>149447.0</td>\n",
       "    </tr>\n",
       "    <tr>\n",
       "      <th>1</th>\n",
       "      <td>Barnet</td>\n",
       "      <td>36981</td>\n",
       "      <td>21024</td>\n",
       "      <td>9796</td>\n",
       "      <td>175</td>\n",
       "      <td>2953</td>\n",
       "      <td>7374</td>\n",
       "      <td>38</td>\n",
       "      <td>87285</td>\n",
       "      <td>46565</td>\n",
       "      <td>212191.0</td>\n",
       "    </tr>\n",
       "    <tr>\n",
       "      <th>2</th>\n",
       "      <td>Bexley</td>\n",
       "      <td>14973</td>\n",
       "      <td>17244</td>\n",
       "      <td>7346</td>\n",
       "      <td>106</td>\n",
       "      <td>1999</td>\n",
       "      <td>2338</td>\n",
       "      <td>22</td>\n",
       "      <td>40071</td>\n",
       "      <td>30037</td>\n",
       "      <td>114136.0</td>\n",
       "    </tr>\n",
       "    <tr>\n",
       "      <th>3</th>\n",
       "      <td>Brent</td>\n",
       "      <td>28923</td>\n",
       "      <td>20569</td>\n",
       "      <td>25978</td>\n",
       "      <td>157</td>\n",
       "      <td>3711</td>\n",
       "      <td>12473</td>\n",
       "      <td>39</td>\n",
       "      <td>72523</td>\n",
       "      <td>63178</td>\n",
       "      <td>227551.0</td>\n",
       "    </tr>\n",
       "    <tr>\n",
       "      <th>4</th>\n",
       "      <td>Bromley</td>\n",
       "      <td>27135</td>\n",
       "      <td>24039</td>\n",
       "      <td>8942</td>\n",
       "      <td>196</td>\n",
       "      <td>2637</td>\n",
       "      <td>4868</td>\n",
       "      <td>31</td>\n",
       "      <td>69742</td>\n",
       "      <td>46759</td>\n",
       "      <td>184349.0</td>\n",
       "    </tr>\n",
       "  </tbody>\n",
       "</table>\n",
       "</div>"
      ],
      "text/plain": [
       "                             borough    value                         \\\n",
       "major_category                       Burglary Criminal Damage  Drugs   \n",
       "0               Barking and Dagenham    18103           18888   9188   \n",
       "1                             Barnet    36981           21024   9796   \n",
       "2                             Bexley    14973           17244   7346   \n",
       "3                              Brent    28923           20569  25978   \n",
       "4                            Bromley    27135           24039   8942   \n",
       "\n",
       "                                                                   \\\n",
       "major_category Fraud or Forgery Other Notifiable Offences Robbery   \n",
       "0                           205                      2819    6105   \n",
       "1                           175                      2953    7374   \n",
       "2                           106                      1999    2338   \n",
       "3                           157                      3711   12473   \n",
       "4                           196                      2637    4868   \n",
       "\n",
       "                                                                               \\\n",
       "major_category Sexual Offences Theft and Handling Violence Against the Person   \n",
       "0                           49              50999                       43091   \n",
       "1                           38              87285                       46565   \n",
       "2                           22              40071                       30037   \n",
       "3                           39              72523                       63178   \n",
       "4                           31              69742                       46759   \n",
       "\n",
       "                   Total  \n",
       "major_category            \n",
       "0               149447.0  \n",
       "1               212191.0  \n",
       "2               114136.0  \n",
       "3               227551.0  \n",
       "4               184349.0  "
      ]
     },
     "execution_count": 68,
     "metadata": {},
     "output_type": "execute_result"
    }
   ],
   "source": [
    "major_crime.head()"
   ]
  },
  {
   "cell_type": "code",
   "execution_count": 74,
   "metadata": {},
   "outputs": [
    {
     "data": {
      "text/html": [
       "<div>\n",
       "<style scoped>\n",
       "    .dataframe tbody tr th:only-of-type {\n",
       "        vertical-align: middle;\n",
       "    }\n",
       "\n",
       "    .dataframe tbody tr th {\n",
       "        vertical-align: top;\n",
       "    }\n",
       "\n",
       "    .dataframe thead tr th {\n",
       "        text-align: left;\n",
       "    }\n",
       "\n",
       "    .dataframe thead tr:last-of-type th {\n",
       "        text-align: right;\n",
       "    }\n",
       "</style>\n",
       "<table border=\"1\" class=\"dataframe\">\n",
       "  <thead>\n",
       "    <tr>\n",
       "      <th></th>\n",
       "      <th colspan=\"21\" halign=\"left\">value</th>\n",
       "    </tr>\n",
       "    <tr>\n",
       "      <th>minor_category</th>\n",
       "      <th>Assault with Injury</th>\n",
       "      <th>Burglary in Other Buildings</th>\n",
       "      <th>Burglary in a Dwelling</th>\n",
       "      <th>Business Property</th>\n",
       "      <th>Common Assault</th>\n",
       "      <th>Counted per Victim</th>\n",
       "      <th>Criminal Damage To Dwelling</th>\n",
       "      <th>Criminal Damage To Motor Vehicle</th>\n",
       "      <th>Criminal Damage To Other Building</th>\n",
       "      <th>Drug Trafficking</th>\n",
       "      <th>...</th>\n",
       "      <th>Other Theft Person</th>\n",
       "      <th>Other violence</th>\n",
       "      <th>Personal Property</th>\n",
       "      <th>Possession Of Drugs</th>\n",
       "      <th>Rape</th>\n",
       "      <th>Theft From Motor Vehicle</th>\n",
       "      <th>Theft From Shops</th>\n",
       "      <th>Theft/Taking Of Motor Vehicle</th>\n",
       "      <th>Theft/Taking of Pedal Cycle</th>\n",
       "      <th>Wounding/GBH</th>\n",
       "    </tr>\n",
       "    <tr>\n",
       "      <th>borough</th>\n",
       "      <th></th>\n",
       "      <th></th>\n",
       "      <th></th>\n",
       "      <th></th>\n",
       "      <th></th>\n",
       "      <th></th>\n",
       "      <th></th>\n",
       "      <th></th>\n",
       "      <th></th>\n",
       "      <th></th>\n",
       "      <th></th>\n",
       "      <th></th>\n",
       "      <th></th>\n",
       "      <th></th>\n",
       "      <th></th>\n",
       "      <th></th>\n",
       "      <th></th>\n",
       "      <th></th>\n",
       "      <th></th>\n",
       "      <th></th>\n",
       "      <th></th>\n",
       "    </tr>\n",
       "  </thead>\n",
       "  <tbody>\n",
       "    <tr>\n",
       "      <th>Barking and Dagenham</th>\n",
       "      <td>13719</td>\n",
       "      <td>5218</td>\n",
       "      <td>12885</td>\n",
       "      <td>522</td>\n",
       "      <td>11089</td>\n",
       "      <td>132</td>\n",
       "      <td>4905</td>\n",
       "      <td>8230</td>\n",
       "      <td>1424</td>\n",
       "      <td>679</td>\n",
       "      <td>...</td>\n",
       "      <td>3086</td>\n",
       "      <td>2172</td>\n",
       "      <td>5583</td>\n",
       "      <td>8482</td>\n",
       "      <td>4</td>\n",
       "      <td>12664</td>\n",
       "      <td>6538</td>\n",
       "      <td>8094</td>\n",
       "      <td>2155</td>\n",
       "      <td>3534</td>\n",
       "    </tr>\n",
       "    <tr>\n",
       "      <th>Barnet</th>\n",
       "      <td>12516</td>\n",
       "      <td>10816</td>\n",
       "      <td>26165</td>\n",
       "      <td>641</td>\n",
       "      <td>13023</td>\n",
       "      <td>137</td>\n",
       "      <td>4546</td>\n",
       "      <td>9369</td>\n",
       "      <td>2106</td>\n",
       "      <td>835</td>\n",
       "      <td>...</td>\n",
       "      <td>6498</td>\n",
       "      <td>1828</td>\n",
       "      <td>6733</td>\n",
       "      <td>8917</td>\n",
       "      <td>6</td>\n",
       "      <td>25894</td>\n",
       "      <td>12189</td>\n",
       "      <td>7237</td>\n",
       "      <td>2103</td>\n",
       "      <td>3138</td>\n",
       "    </tr>\n",
       "    <tr>\n",
       "      <th>Bexley</th>\n",
       "      <td>9224</td>\n",
       "      <td>5589</td>\n",
       "      <td>9384</td>\n",
       "      <td>342</td>\n",
       "      <td>7612</td>\n",
       "      <td>84</td>\n",
       "      <td>3662</td>\n",
       "      <td>8103</td>\n",
       "      <td>1402</td>\n",
       "      <td>689</td>\n",
       "      <td>...</td>\n",
       "      <td>1452</td>\n",
       "      <td>1358</td>\n",
       "      <td>1996</td>\n",
       "      <td>6621</td>\n",
       "      <td>2</td>\n",
       "      <td>10498</td>\n",
       "      <td>6970</td>\n",
       "      <td>5486</td>\n",
       "      <td>1119</td>\n",
       "      <td>2087</td>\n",
       "    </tr>\n",
       "    <tr>\n",
       "      <th>Brent</th>\n",
       "      <td>17479</td>\n",
       "      <td>7440</td>\n",
       "      <td>21483</td>\n",
       "      <td>750</td>\n",
       "      <td>17243</td>\n",
       "      <td>99</td>\n",
       "      <td>4883</td>\n",
       "      <td>8433</td>\n",
       "      <td>2144</td>\n",
       "      <td>1364</td>\n",
       "      <td>...</td>\n",
       "      <td>7636</td>\n",
       "      <td>2956</td>\n",
       "      <td>11723</td>\n",
       "      <td>24410</td>\n",
       "      <td>14</td>\n",
       "      <td>18831</td>\n",
       "      <td>9031</td>\n",
       "      <td>6572</td>\n",
       "      <td>3417</td>\n",
       "      <td>5469</td>\n",
       "    </tr>\n",
       "    <tr>\n",
       "      <th>Bromley</th>\n",
       "      <td>13888</td>\n",
       "      <td>10278</td>\n",
       "      <td>16857</td>\n",
       "      <td>594</td>\n",
       "      <td>11127</td>\n",
       "      <td>161</td>\n",
       "      <td>5432</td>\n",
       "      <td>10480</td>\n",
       "      <td>2425</td>\n",
       "      <td>775</td>\n",
       "      <td>...</td>\n",
       "      <td>3000</td>\n",
       "      <td>1626</td>\n",
       "      <td>4274</td>\n",
       "      <td>8127</td>\n",
       "      <td>4</td>\n",
       "      <td>17681</td>\n",
       "      <td>13766</td>\n",
       "      <td>6866</td>\n",
       "      <td>1903</td>\n",
       "      <td>3372</td>\n",
       "    </tr>\n",
       "  </tbody>\n",
       "</table>\n",
       "<p>5 rows × 32 columns</p>\n",
       "</div>"
      ],
      "text/plain": [
       "                                   value                              \\\n",
       "minor_category       Assault with Injury Burglary in Other Buildings   \n",
       "borough                                                                \n",
       "Barking and Dagenham               13719                        5218   \n",
       "Barnet                             12516                       10816   \n",
       "Bexley                              9224                        5589   \n",
       "Brent                              17479                        7440   \n",
       "Bromley                            13888                       10278   \n",
       "\n",
       "                                                                              \\\n",
       "minor_category       Burglary in a Dwelling Business Property Common Assault   \n",
       "borough                                                                        \n",
       "Barking and Dagenham                  12885               522          11089   \n",
       "Barnet                                26165               641          13023   \n",
       "Bexley                                 9384               342           7612   \n",
       "Brent                                 21483               750          17243   \n",
       "Bromley                               16857               594          11127   \n",
       "\n",
       "                                                                     \\\n",
       "minor_category       Counted per Victim Criminal Damage To Dwelling   \n",
       "borough                                                               \n",
       "Barking and Dagenham                132                        4905   \n",
       "Barnet                              137                        4546   \n",
       "Bexley                               84                        3662   \n",
       "Brent                                99                        4883   \n",
       "Bromley                             161                        5432   \n",
       "\n",
       "                                                       \\\n",
       "minor_category       Criminal Damage To Motor Vehicle   \n",
       "borough                                                 \n",
       "Barking and Dagenham                             8230   \n",
       "Barnet                                           9369   \n",
       "Bexley                                           8103   \n",
       "Brent                                            8433   \n",
       "Bromley                                         10480   \n",
       "\n",
       "                                                                         ...  \\\n",
       "minor_category       Criminal Damage To Other Building Drug Trafficking  ...   \n",
       "borough                                                                  ...   \n",
       "Barking and Dagenham                              1424              679  ...   \n",
       "Barnet                                            2106              835  ...   \n",
       "Bexley                                            1402              689  ...   \n",
       "Brent                                             2144             1364  ...   \n",
       "Bromley                                           2425              775  ...   \n",
       "\n",
       "                                                                          \\\n",
       "minor_category       Other Theft Person Other violence Personal Property   \n",
       "borough                                                                    \n",
       "Barking and Dagenham               3086           2172              5583   \n",
       "Barnet                             6498           1828              6733   \n",
       "Bexley                             1452           1358              1996   \n",
       "Brent                              7636           2956             11723   \n",
       "Bromley                            3000           1626              4274   \n",
       "\n",
       "                                                                        \\\n",
       "minor_category       Possession Of Drugs Rape Theft From Motor Vehicle   \n",
       "borough                                                                  \n",
       "Barking and Dagenham                8482    4                    12664   \n",
       "Barnet                              8917    6                    25894   \n",
       "Bexley                              6621    2                    10498   \n",
       "Brent                              24410   14                    18831   \n",
       "Bromley                             8127    4                    17681   \n",
       "\n",
       "                                                                     \\\n",
       "minor_category       Theft From Shops Theft/Taking Of Motor Vehicle   \n",
       "borough                                                               \n",
       "Barking and Dagenham             6538                          8094   \n",
       "Barnet                          12189                          7237   \n",
       "Bexley                           6970                          5486   \n",
       "Brent                            9031                          6572   \n",
       "Bromley                         13766                          6866   \n",
       "\n",
       "                                                               \n",
       "minor_category       Theft/Taking of Pedal Cycle Wounding/GBH  \n",
       "borough                                                        \n",
       "Barking and Dagenham                        2155         3534  \n",
       "Barnet                                      2103         3138  \n",
       "Bexley                                      1119         2087  \n",
       "Brent                                       3417         5469  \n",
       "Bromley                                     1903         3372  \n",
       "\n",
       "[5 rows x 32 columns]"
      ]
     },
     "execution_count": 74,
     "metadata": {},
     "output_type": "execute_result"
    }
   ],
   "source": [
    "minor_crime = pd.pivot_table(df,values=['value'],\n",
    "                             index=['borough'],\n",
    "                             columns=['minor_category'],\n",
    "                             aggfunc=np.sum,fill_value=0)\n",
    "minor_crime.head()"
   ]
  },
  {
   "cell_type": "code",
   "execution_count": 75,
   "metadata": {},
   "outputs": [],
   "source": [
    "minor_crime.reset_index(inplace=True)"
   ]
  },
  {
   "cell_type": "code",
   "execution_count": 76,
   "metadata": {},
   "outputs": [],
   "source": [
    "minor_crime['Total']=minor_crime.sum(axis=1)"
   ]
  },
  {
   "cell_type": "code",
   "execution_count": 77,
   "metadata": {},
   "outputs": [
    {
     "data": {
      "text/html": [
       "<div>\n",
       "<style scoped>\n",
       "    .dataframe tbody tr th:only-of-type {\n",
       "        vertical-align: middle;\n",
       "    }\n",
       "\n",
       "    .dataframe tbody tr th {\n",
       "        vertical-align: top;\n",
       "    }\n",
       "\n",
       "    .dataframe thead tr th {\n",
       "        text-align: left;\n",
       "    }\n",
       "</style>\n",
       "<table border=\"1\" class=\"dataframe\">\n",
       "  <thead>\n",
       "    <tr>\n",
       "      <th></th>\n",
       "      <th>borough</th>\n",
       "      <th colspan=\"19\" halign=\"left\">value</th>\n",
       "      <th>Total</th>\n",
       "    </tr>\n",
       "    <tr>\n",
       "      <th>minor_category</th>\n",
       "      <th></th>\n",
       "      <th>Assault with Injury</th>\n",
       "      <th>Burglary in Other Buildings</th>\n",
       "      <th>Burglary in a Dwelling</th>\n",
       "      <th>Business Property</th>\n",
       "      <th>Common Assault</th>\n",
       "      <th>Counted per Victim</th>\n",
       "      <th>Criminal Damage To Dwelling</th>\n",
       "      <th>Criminal Damage To Motor Vehicle</th>\n",
       "      <th>Criminal Damage To Other Building</th>\n",
       "      <th>...</th>\n",
       "      <th>Other violence</th>\n",
       "      <th>Personal Property</th>\n",
       "      <th>Possession Of Drugs</th>\n",
       "      <th>Rape</th>\n",
       "      <th>Theft From Motor Vehicle</th>\n",
       "      <th>Theft From Shops</th>\n",
       "      <th>Theft/Taking Of Motor Vehicle</th>\n",
       "      <th>Theft/Taking of Pedal Cycle</th>\n",
       "      <th>Wounding/GBH</th>\n",
       "      <th></th>\n",
       "    </tr>\n",
       "  </thead>\n",
       "  <tbody>\n",
       "    <tr>\n",
       "      <th>0</th>\n",
       "      <td>Barking and Dagenham</td>\n",
       "      <td>13719</td>\n",
       "      <td>5218</td>\n",
       "      <td>12885</td>\n",
       "      <td>522</td>\n",
       "      <td>11089</td>\n",
       "      <td>132</td>\n",
       "      <td>4905</td>\n",
       "      <td>8230</td>\n",
       "      <td>1424</td>\n",
       "      <td>...</td>\n",
       "      <td>2172</td>\n",
       "      <td>5583</td>\n",
       "      <td>8482</td>\n",
       "      <td>4</td>\n",
       "      <td>12664</td>\n",
       "      <td>6538</td>\n",
       "      <td>8094</td>\n",
       "      <td>2155</td>\n",
       "      <td>3534</td>\n",
       "      <td>149447</td>\n",
       "    </tr>\n",
       "    <tr>\n",
       "      <th>1</th>\n",
       "      <td>Barnet</td>\n",
       "      <td>12516</td>\n",
       "      <td>10816</td>\n",
       "      <td>26165</td>\n",
       "      <td>641</td>\n",
       "      <td>13023</td>\n",
       "      <td>137</td>\n",
       "      <td>4546</td>\n",
       "      <td>9369</td>\n",
       "      <td>2106</td>\n",
       "      <td>...</td>\n",
       "      <td>1828</td>\n",
       "      <td>6733</td>\n",
       "      <td>8917</td>\n",
       "      <td>6</td>\n",
       "      <td>25894</td>\n",
       "      <td>12189</td>\n",
       "      <td>7237</td>\n",
       "      <td>2103</td>\n",
       "      <td>3138</td>\n",
       "      <td>212191</td>\n",
       "    </tr>\n",
       "    <tr>\n",
       "      <th>2</th>\n",
       "      <td>Bexley</td>\n",
       "      <td>9224</td>\n",
       "      <td>5589</td>\n",
       "      <td>9384</td>\n",
       "      <td>342</td>\n",
       "      <td>7612</td>\n",
       "      <td>84</td>\n",
       "      <td>3662</td>\n",
       "      <td>8103</td>\n",
       "      <td>1402</td>\n",
       "      <td>...</td>\n",
       "      <td>1358</td>\n",
       "      <td>1996</td>\n",
       "      <td>6621</td>\n",
       "      <td>2</td>\n",
       "      <td>10498</td>\n",
       "      <td>6970</td>\n",
       "      <td>5486</td>\n",
       "      <td>1119</td>\n",
       "      <td>2087</td>\n",
       "      <td>114136</td>\n",
       "    </tr>\n",
       "    <tr>\n",
       "      <th>3</th>\n",
       "      <td>Brent</td>\n",
       "      <td>17479</td>\n",
       "      <td>7440</td>\n",
       "      <td>21483</td>\n",
       "      <td>750</td>\n",
       "      <td>17243</td>\n",
       "      <td>99</td>\n",
       "      <td>4883</td>\n",
       "      <td>8433</td>\n",
       "      <td>2144</td>\n",
       "      <td>...</td>\n",
       "      <td>2956</td>\n",
       "      <td>11723</td>\n",
       "      <td>24410</td>\n",
       "      <td>14</td>\n",
       "      <td>18831</td>\n",
       "      <td>9031</td>\n",
       "      <td>6572</td>\n",
       "      <td>3417</td>\n",
       "      <td>5469</td>\n",
       "      <td>227551</td>\n",
       "    </tr>\n",
       "    <tr>\n",
       "      <th>4</th>\n",
       "      <td>Bromley</td>\n",
       "      <td>13888</td>\n",
       "      <td>10278</td>\n",
       "      <td>16857</td>\n",
       "      <td>594</td>\n",
       "      <td>11127</td>\n",
       "      <td>161</td>\n",
       "      <td>5432</td>\n",
       "      <td>10480</td>\n",
       "      <td>2425</td>\n",
       "      <td>...</td>\n",
       "      <td>1626</td>\n",
       "      <td>4274</td>\n",
       "      <td>8127</td>\n",
       "      <td>4</td>\n",
       "      <td>17681</td>\n",
       "      <td>13766</td>\n",
       "      <td>6866</td>\n",
       "      <td>1903</td>\n",
       "      <td>3372</td>\n",
       "      <td>184349</td>\n",
       "    </tr>\n",
       "  </tbody>\n",
       "</table>\n",
       "<p>5 rows × 34 columns</p>\n",
       "</div>"
      ],
      "text/plain": [
       "                             borough               value  \\\n",
       "minor_category                       Assault with Injury   \n",
       "0               Barking and Dagenham               13719   \n",
       "1                             Barnet               12516   \n",
       "2                             Bexley                9224   \n",
       "3                              Brent               17479   \n",
       "4                            Bromley               13888   \n",
       "\n",
       "                                                                   \\\n",
       "minor_category Burglary in Other Buildings Burglary in a Dwelling   \n",
       "0                                     5218                  12885   \n",
       "1                                    10816                  26165   \n",
       "2                                     5589                   9384   \n",
       "3                                     7440                  21483   \n",
       "4                                    10278                  16857   \n",
       "\n",
       "                                                                    \\\n",
       "minor_category Business Property Common Assault Counted per Victim   \n",
       "0                            522          11089                132   \n",
       "1                            641          13023                137   \n",
       "2                            342           7612                 84   \n",
       "3                            750          17243                 99   \n",
       "4                            594          11127                161   \n",
       "\n",
       "                                                                             \\\n",
       "minor_category Criminal Damage To Dwelling Criminal Damage To Motor Vehicle   \n",
       "0                                     4905                             8230   \n",
       "1                                     4546                             9369   \n",
       "2                                     3662                             8103   \n",
       "3                                     4883                             8433   \n",
       "4                                     5432                            10480   \n",
       "\n",
       "                                                  ...                 \\\n",
       "minor_category Criminal Damage To Other Building  ... Other violence   \n",
       "0                                           1424  ...           2172   \n",
       "1                                           2106  ...           1828   \n",
       "2                                           1402  ...           1358   \n",
       "3                                           2144  ...           2956   \n",
       "4                                           2425  ...           1626   \n",
       "\n",
       "                                                           \\\n",
       "minor_category Personal Property Possession Of Drugs Rape   \n",
       "0                           5583                8482    4   \n",
       "1                           6733                8917    6   \n",
       "2                           1996                6621    2   \n",
       "3                          11723               24410   14   \n",
       "4                           4274                8127    4   \n",
       "\n",
       "                                                          \\\n",
       "minor_category Theft From Motor Vehicle Theft From Shops   \n",
       "0                                 12664             6538   \n",
       "1                                 25894            12189   \n",
       "2                                 10498             6970   \n",
       "3                                 18831             9031   \n",
       "4                                 17681            13766   \n",
       "\n",
       "                                                                          \\\n",
       "minor_category Theft/Taking Of Motor Vehicle Theft/Taking of Pedal Cycle   \n",
       "0                                       8094                        2155   \n",
       "1                                       7237                        2103   \n",
       "2                                       5486                        1119   \n",
       "3                                       6572                        3417   \n",
       "4                                       6866                        1903   \n",
       "\n",
       "                              Total  \n",
       "minor_category Wounding/GBH          \n",
       "0                      3534  149447  \n",
       "1                      3138  212191  \n",
       "2                      2087  114136  \n",
       "3                      5469  227551  \n",
       "4                      3372  184349  \n",
       "\n",
       "[5 rows x 34 columns]"
      ]
     },
     "execution_count": 77,
     "metadata": {},
     "output_type": "execute_result"
    }
   ],
   "source": [
    "minor_crime.head()"
   ]
  },
  {
   "cell_type": "code",
   "execution_count": 82,
   "metadata": {},
   "outputs": [],
   "source": [
    "year_sum = pd.DataFrame(df.groupby(['year'])['value'].sum())"
   ]
  },
  {
   "cell_type": "code",
   "execution_count": 84,
   "metadata": {},
   "outputs": [],
   "source": [
    "year_sum.reset_index(inplace=True)"
   ]
  },
  {
   "cell_type": "code",
   "execution_count": 90,
   "metadata": {},
   "outputs": [
    {
     "data": {
      "text/plain": [
       "<AxesSubplot:xlabel='year', ylabel='value'>"
      ]
     },
     "execution_count": 90,
     "metadata": {},
     "output_type": "execute_result"
    },
    {
     "data": {
      "image/png": "[encoded data removed]",
      "text/plain": [
       "<Figure size 432x288 with 1 Axes>"
      ]
     },
     "metadata": {
      "needs_background": "light"
     },
     "output_type": "display_data"
    }
   ],
   "source": [
    "sns.lineplot(data=year_sum, x=\"year\", y=\"value\")"
   ]
  },
  {
   "cell_type": "code",
   "execution_count": 91,
   "metadata": {},
   "outputs": [],
   "source": [
    "month_sum = pd.DataFrame(df.groupby(['month'])['value'].sum())"
   ]
  },
  {
   "cell_type": "code",
   "execution_count": 92,
   "metadata": {},
   "outputs": [],
   "source": [
    "month_sum.reset_index(inplace=True)"
   ]
  },
  {
   "cell_type": "code",
   "execution_count": 94,
   "metadata": {},
   "outputs": [
    {
     "data": {
      "text/plain": [
       "<AxesSubplot:xlabel='month', ylabel='value'>"
      ]
     },
     "execution_count": 94,
     "metadata": {},
     "output_type": "execute_result"
    },
    {
     "data": {
      "image/png": "[encoded data removed]",
      "text/plain": [
       "<Figure size 432x288 with 1 Axes>"
      ]
     },
     "metadata": {
      "needs_background": "light"
     },
     "output_type": "display_data"
    }
   ],
   "source": [
    "sns.lineplot(data=month_sum, x=\"month\", y=\"value\")"
   ]
  },
  {
   "cell_type": "code",
   "execution_count": 95,
   "metadata": {},
   "outputs": [
    {
     "data": {
      "text/plain": [
       "<AxesSubplot:xlabel='month', ylabel='value'>"
      ]
     },
     "execution_count": 95,
     "metadata": {},
     "output_type": "execute_result"
    },
    {
     "data": {
      "image/png": "[encoded data removed]",
      "text/plain": [
       "<Figure size 432x288 with 1 Axes>"
      ]
     },
     "metadata": {
      "needs_background": "light"
     },
     "output_type": "display_data"
    }
   ],
   "source": [
    "sns.scatterplot(data=month_sum, x=\"month\", y=\"value\")"
   ]
  },
  {
   "cell_type": "code",
   "execution_count": null,
   "metadata": {},
   "outputs": [],
   "source": []
  }
 ],
 "metadata": {
  "kernelspec": {
   "display_name": "Python 3",
   "language": "python",
   "name": "python3"
  },
  "language_info": {
   "codemirror_mode": {
    "name": "ipython",
    "version": 3
   },
   "file_extension": ".py",
   "mimetype": "text/x-python",
   "name": "python",
   "nbconvert_exporter": "python",
   "pygments_lexer": "ipython3",
   "version": "3.8.5"
  }
 },
 "nbformat": 4,
 "nbformat_minor": 4
}
